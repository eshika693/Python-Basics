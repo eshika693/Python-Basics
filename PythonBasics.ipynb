{
  "nbformat": 4,
  "nbformat_minor": 0,
  "metadata": {
    "colab": {
      "provenance": []
    },
    "kernelspec": {
      "name": "python3",
      "display_name": "Python 3"
    },
    "language_info": {
      "name": "python"
    }
  },
  "cells": [
    {
      "cell_type": "markdown",
      "source": [
        "## Python Basic's"
      ],
      "metadata": {
        "id": "9zEYLtKChP78"
      }
    },
    {
      "cell_type": "markdown",
      "source": [
        "Ques1) What is Python, and why is it popular?"
      ],
      "metadata": {
        "id": "hbfgW_7Hg2Fz"
      }
    },
    {
      "cell_type": "markdown",
      "source": [
        "- Python is a programming language that is easy to understand and write, making it a popular choice among developers and programmers.\n",
        "- It is compatible with various programming paradigms, such as procedural, object-oriented, and functional programming.\n",
        "- Python has a large and active community of developers, an extensive standard library, and third-party packages for various domains."
      ],
      "metadata": {
        "id": "NvcDRraOg3uW"
      }
    },
    {
      "cell_type": "markdown",
      "source": [
        "Ques2) What is an interpreter in Python?"
      ],
      "metadata": {
        "id": "hN5iq5L0g3z0"
      }
    },
    {
      "cell_type": "markdown",
      "source": [
        "- An interpreter in Python is a program that executes Python code line by line. Unlike compiled languages, which are first transformed into machine code and then executed, an interpreter directly reads and executes the code. This allows for faster testing and debugging since the code is run immediately without needing a separate compilation step."
      ],
      "metadata": {
        "id": "lCiZIQM4g33P"
      }
    },
    {
      "cell_type": "markdown",
      "source": [
        "Ques3) What are pre-defined keywords in Python?"
      ],
      "metadata": {
        "id": "pmz3mb9Jg362"
      }
    },
    {
      "cell_type": "markdown",
      "source": [
        "- Keywords are reserved words in Python that have special meanings and cannot be used as identifiers (variable names, function names, etc.).\n",
        "- Examples of keywords include if, else, while, for, def, class, import, try, except, return, True, False, None, etc.\n",
        "- Keywords are case-sensitive and cannot be redefined or overridden within a Python program."
      ],
      "metadata": {
        "id": "yKGMxuU1ht_M"
      }
    },
    {
      "cell_type": "markdown",
      "source": [
        "Ques4) Can keywords be used as variable names?"
      ],
      "metadata": {
        "id": "iwaxLGEXh3yL"
      }
    },
    {
      "cell_type": "markdown",
      "source": [
        "No keywords cannot be used as variable names."
      ],
      "metadata": {
        "id": "kRPCSKCWh9hs"
      }
    },
    {
      "cell_type": "markdown",
      "source": [
        "Ques5) What is mutability in Python?"
      ],
      "metadata": {
        "id": "kx30VxVYiGPg"
      }
    },
    {
      "cell_type": "markdown",
      "source": [
        "Mutability in Python refers to whether or not an object can be changed after it is created. In simple terms:\n",
        "\n",
        "- Mutable objects: These are objects whose content or value can be changed after they are created.\n",
        "- Immutable objects: These are objects whose content or value cannot be changed after they are created."
      ],
      "metadata": {
        "id": "2m0RYYg5iPsG"
      }
    },
    {
      "cell_type": "markdown",
      "source": [
        "Ques6) Why are lists mutable, but tuples are immutable?"
      ],
      "metadata": {
        "id": "y985avppiggn"
      }
    },
    {
      "cell_type": "markdown",
      "source": [
        "- Lists are mutable and tuples are immutable in Python primarily due to their intended use cases and design choices. Lists are designed to be flexible, allowing for modifications such as adding, removing, or changing elements during program execution. This makes them ideal for situations where the data may need to change over time, offering more versatility in dynamic applications.\n",
        "- On the other hand, tuples are meant to represent fixed collections of data that should remain constant. Their immutability makes them more memory-efficient and faster for certain operations, as Python can optimize their storage and access without needing to account for changes."
      ],
      "metadata": {
        "id": "c-7FVAwsinFw"
      }
    },
    {
      "cell_type": "markdown",
      "source": [
        "Ques7) What is the difference between “==” and “is” operators in Python?"
      ],
      "metadata": {
        "id": "xtpmiJwki7BL"
      }
    },
    {
      "cell_type": "markdown",
      "source": [
        "- The \"==\" operator checks for value equality, meaning it compares whether the contents or values of two objects are the same, regardless of whether they are stored in the same location in memory.\n",
        "- The \"is\" operator checks for identity, meaning it compares whether two variables refer to the same object in memory."
      ],
      "metadata": {
        "id": "p20SWkGQjCFQ"
      }
    },
    {
      "cell_type": "markdown",
      "source": [
        "Ques8)  What are logical operators in Python?"
      ],
      "metadata": {
        "id": "zwYtbvH1jlV7"
      }
    },
    {
      "cell_type": "markdown",
      "source": [
        "In Python, logical operators are used to combine conditional statements or expressions and return a boolean value (True or False).\n",
        "1. and (Logical AND):\n",
        "The and operator returns True if both conditions (or expressions) on either side of it are True. If either condition is False, the result will be False.\n",
        "2. or (Logical OR):\n",
        "The or operator returns True if at least one of the conditions (or expressions) on either side of it is True. If both conditions are False, the result will be False.\n",
        "3. not (Logical NOT):\n",
        "The not operator inverts the boolean value of the expression it precedes. If the expression is True, not makes it False, and if the expression is False, not makes it True."
      ],
      "metadata": {
        "id": "zZlr_N7mjqIy"
      }
    },
    {
      "cell_type": "markdown",
      "source": [
        "Ques9) What is type casting in Python?\n"
      ],
      "metadata": {
        "id": "EGoSEy1mkITB"
      }
    },
    {
      "cell_type": "markdown",
      "source": [
        "- Type casting, also referred to as type conversion, is the process of changing one data type to another in Python.\n",
        "- Python provides built-in functions for type casting, such as int(), float(), str(), list(), tuple(), dict(), etc.\n",
        "- Type casting is often necessary for performing arithmetic operations, data manipulation, and input/output operations in Python programs."
      ],
      "metadata": {
        "id": "BN-VogWvkR2c"
      }
    },
    {
      "cell_type": "markdown",
      "source": [
        "Ques10) What is the difference between implicit and explicit type casting?"
      ],
      "metadata": {
        "id": "cQ1xQIYtkZxr"
      }
    },
    {
      "cell_type": "markdown",
      "source": [
        "- Implicit type casting (also called type coercion) is automatically performed by Python when it needs to convert a value from one type to another without the programmer's intervention. This usually happens when a smaller data type is converted into a larger one. For example, if we add an integer and a float, Python automatically converts the integer to a float before performing the addition to ensure that the operation can handle decimal numbers. The conversion is done automatically by Python based on the operation being performed and doesn't require the programmer to specify it.\n",
        "- Explicit type casting (or type conversion) occurs when the programmer manually converts one data type to another using the built-in int(), float(), str(), or other type-casting functions. This is necessary when the programmer wants to ensure that the conversion happens in a specific way or when automatic conversion (implicit casting) cannot be applied, such as trying to convert a string that doesn't represent a number into an integer."
      ],
      "metadata": {
        "id": "os7fVVM6kq2n"
      }
    },
    {
      "cell_type": "markdown",
      "source": [
        "Ques11) What is the purpose of conditional statements in Python ?"
      ],
      "metadata": {
        "id": "A2pjRJP0kwe2"
      }
    },
    {
      "cell_type": "markdown",
      "source": [
        "- Conditionals in Python are used to execute code based on the evaluation of one or more conditions.\n",
        "- Python supports conditional statements such as if, elif (else if), and else to control the flow of execution.\n",
        "- Conditionals can be nested to handle multiple conditions and control different branches of execution based on the outcome of logical expressions."
      ],
      "metadata": {
        "id": "aSnCRiM5lADu"
      }
    },
    {
      "cell_type": "markdown",
      "source": [
        "Ques12)How does the elif statement work?"
      ],
      "metadata": {
        "id": "sLKdlc6mlKmH"
      }
    },
    {
      "cell_type": "markdown",
      "source": [
        "- The elif (short for \"else if\") statement in Python is used as part of a conditional control flow to check multiple conditions in sequence. It allows us to test additional conditions after an initial if statement. If the condition in the if statement evaluates to False, Python proceeds to evaluate the condition in the elif block. If the condition in the elif is True, the block of code following it will execute. We can have multiple elif statements after an if, and they are checked one by one, in order, until one evaluates to True or all are exhausted. If none of the if or elif conditions are True, an optional else block can execute as a default action.\n"
      ],
      "metadata": {
        "id": "_HO6IPpVlUHI"
      }
    },
    {
      "cell_type": "markdown",
      "source": [
        "Ques13) What is the difference between for and while loops?"
      ],
      "metadata": {
        "id": "ftI4FJtIl06m"
      }
    },
    {
      "cell_type": "markdown",
      "source": [
        "“for” loops are used for iterating over a sequence of elements, while “while” loops are used for executing code until a specified condition becomes False.\n"
      ],
      "metadata": {
        "id": "V21BgIUol59D"
      }
    },
    {
      "cell_type": "markdown",
      "source": [
        "Ques14)Describe a scenario where a while loop is more suitable than a for loop.?"
      ],
      "metadata": {
        "id": "ftCMXOZjmAOZ"
      }
    },
    {
      "cell_type": "markdown",
      "source": [
        "- A while loop is more suitable than a for loop in scenarios where the number of iterations is not known beforehand and the loop needs to run until a certain condition is met. This makes the while loop ideal for situations where the loop should continue as long as a condition remains True, but there is no fixed or predetermined number of iterations."
      ],
      "metadata": {
        "id": "1u_p6koAmGCp"
      }
    },
    {
      "cell_type": "markdown",
      "source": [
        "## Practical Questions"
      ],
      "metadata": {
        "id": "KcrpU-mamO5i"
      }
    },
    {
      "cell_type": "markdown",
      "source": [
        "Ques1) Write a Python program to print \"Hello, World!\"?"
      ],
      "metadata": {
        "id": "p93hOIL8mUvC"
      }
    },
    {
      "cell_type": "code",
      "source": [
        "print(\"Hello, World!\")"
      ],
      "metadata": {
        "id": "ZwmiAloCmaC9"
      },
      "execution_count": null,
      "outputs": []
    },
    {
      "cell_type": "markdown",
      "source": [
        "Ques2) Write a Python program that displays your name and age?"
      ],
      "metadata": {
        "id": "paPcQZJ4mo7T"
      }
    },
    {
      "cell_type": "code",
      "source": [
        "name = \"Eshika Singh\"\n",
        "age = 22\n",
        "\n",
        "print(\"Name:\", name)\n",
        "print(\"Age:\", age)"
      ],
      "metadata": {
        "id": "vIYCg2BymuxX"
      },
      "execution_count": null,
      "outputs": []
    },
    {
      "cell_type": "markdown",
      "source": [
        "Ques3) Write code to print all the pre-defined keywords in Python using the keyword library?"
      ],
      "metadata": {
        "id": "Y3GcBybmnLdm"
      }
    },
    {
      "cell_type": "code",
      "source": [
        "import keyword\n",
        "\n",
        "print(\"Python Keywords:\", keyword.kwlist)"
      ],
      "metadata": {
        "id": "YcMoQsSqnQvv"
      },
      "execution_count": null,
      "outputs": []
    },
    {
      "cell_type": "markdown",
      "source": [
        "Ques4) Write a program that checks if a given word is a Python keyword?"
      ],
      "metadata": {
        "id": "vyOBcMPini5n"
      }
    },
    {
      "cell_type": "code",
      "source": [
        "import keyword\n",
        "\n",
        "word = input(\"Enter a word to check if it's a Python keyword: \")\n",
        "\n",
        "if keyword.iskeyword(word):\n",
        "    print(f\"'{word}' is a Python keyword.\")\n",
        "else:\n",
        "    print(f\"'{word}' is not a Python keyword.\")"
      ],
      "metadata": {
        "id": "FG5kqNhhnsKf"
      },
      "execution_count": null,
      "outputs": []
    },
    {
      "cell_type": "markdown",
      "source": [
        "Ques5) Create a list and tuple in Python, and demonstrate how attempting to change an element works differently for each?"
      ],
      "metadata": {
        "id": "o4TUle1jn6t1"
      }
    },
    {
      "cell_type": "code",
      "source": [
        "my_list = [1,2,3,4,5]\n",
        "my_tuple = (1,2,3,4,5)\n",
        "\n",
        "my_list[0] = 10\n",
        "my_tuple[0] = 10\n",
        "\n",
        "# my_list can be changed as list is mutable but my_tuple will not change as tuple is an immutable so it will throw an error."
      ],
      "metadata": {
        "id": "iQT-KetOoBRp"
      },
      "execution_count": null,
      "outputs": []
    },
    {
      "cell_type": "markdown",
      "source": [
        "Ques6) Write a function to demonstrate the behavior of mutable and immutable arguments?"
      ],
      "metadata": {
        "id": "S0QsZEVEoi5K"
      }
    },
    {
      "cell_type": "code",
      "source": [
        "#List is a mutable data type and tuple is a immutable data type.\n",
        "\n",
        "my_list = [1,2,3,4]\n",
        "my_tuple = (1,2,3,4)\n",
        "\n",
        "mutable_arg = my_list\n",
        "immutable_arg = my_tuple\n",
        "\n",
        "mutable_arg.append(5)\n",
        "immutable_arg = immutable_arg + (5,)\n",
        "\n",
        "print(\"Mutable argument (list):\", mutable_arg)\n",
        "print(\"Immutable argument (tuple):\", immutable_arg)\n",
        "\n",
        "print(\"\\nOutside the function:\")\n",
        "print(\"my_list (mutable):\", my_list)\n",
        "print(\"my_tuple (immutable):\", my_tuple)\n",
        "\n"
      ],
      "metadata": {
        "id": "SZdKdDrZooJt"
      },
      "execution_count": null,
      "outputs": []
    },
    {
      "cell_type": "markdown",
      "source": [
        "Ques7) Write a program that performs basic arithmetic operations on two user-input numbers?"
      ],
      "metadata": {
        "id": "CPjkN0Wrtkfv"
      }
    },
    {
      "cell_type": "code",
      "source": [
        "user_1 = int(input(\"Enter the first number: \"))\n",
        "user_2 = int(input(\"Enter the second number: \"))\n",
        "\n",
        "print(\"Addition:\", user_1 + user_2)\n",
        "print(\"Subtraction:\",  user_1 - user_2)\n",
        "print(\"Multiplication:\", user_1 * user_2)"
      ],
      "metadata": {
        "id": "MnT6nqaqtrKV"
      },
      "execution_count": null,
      "outputs": []
    },
    {
      "cell_type": "markdown",
      "source": [
        "Ques8)  Write a program to demonstrate the use of logical operators?"
      ],
      "metadata": {
        "id": "ZOLyK4ycud-w"
      }
    },
    {
      "cell_type": "code",
      "source": [
        "a = 10\n",
        "b = 20\n",
        "c = 30\n",
        "\n",
        "#'And' Logical opertaor\n",
        "\n",
        "if a < b and b < c:\n",
        "    print(\"Condition with 'and' is True\")\n",
        "else:\n",
        "    print(\"Condition with 'and' is False\")\n",
        "\n",
        "#'Or' Logical operator\n",
        "\n",
        "if a < b or b < c:\n",
        "    print(\"Condition with 'or' is True\")\n",
        "else:\n",
        "    print(\"Condition with 'or' is False\")\n",
        "\n",
        "#'Not' Logical operator\n",
        "\n",
        "if not a == c:\n",
        "    print(\"Condition with 'not' is True\")\n",
        "else:\n",
        "    print(\"Condition with 'not' is False\")"
      ],
      "metadata": {
        "id": "xbF2LqlyujcE"
      },
      "execution_count": null,
      "outputs": []
    },
    {
      "cell_type": "markdown",
      "source": [
        "Ques9) Write a Python program to convert user input from string to integer, float, and boolean types?"
      ],
      "metadata": {
        "id": "35ES-x0zv083"
      }
    },
    {
      "cell_type": "code",
      "source": [
        "# To convert user input from string to integer we use\n",
        "\n",
        "User_1 = int(input(\"Enter the number :\"))\n",
        "\n",
        "# To convert user input from string to float we use\n",
        "\n",
        "User_2 = float(input(\"Enter the number :\"))\n",
        "\n",
        "# To convert user input from string to boolean we use\n",
        "\n",
        "user_3 = bool(input(\"Enter the number :\"))\n",
        "\n",
        "print(type(User_1))\n",
        "print(type(User_2))\n",
        "print(type(user_3))"
      ],
      "metadata": {
        "id": "z_H-nhcIv5bt"
      },
      "execution_count": null,
      "outputs": []
    },
    {
      "cell_type": "markdown",
      "source": [
        "Ques10)  Write code to demonstrate type casting with list elements?"
      ],
      "metadata": {
        "id": "6IlVfBczxMk3"
      }
    },
    {
      "cell_type": "code",
      "source": [
        "string_list = [\"1\", \"2\", \"3\", \"4\", \"5\"]\n",
        "\n",
        "# Covert string list into integer list\n",
        "int_list = [int(item) for item in string_list]\n",
        "\n",
        "# Covert string list into float list\n",
        "float_list = [float(item) for item in int_list]\n",
        "\n",
        "# Covert string list into boolean list\n",
        "bool_list = [bool(item) for item in float_list]\n",
        "\n",
        "print(\"Original string list:\", string_list)\n",
        "print(\"Converted to integer list:\", int_list)\n",
        "print(\"Converted to float list:\", float_list)\n",
        "print(\"Converted to boolean list:\", bool_list)"
      ],
      "metadata": {
        "id": "Hsv7zut5xRTl"
      },
      "execution_count": null,
      "outputs": []
    },
    {
      "cell_type": "markdown",
      "source": [
        "Ques11)  Write a program that checks if a number is positive, negative, or zero?"
      ],
      "metadata": {
        "id": "7osF4UHFx0va"
      }
    },
    {
      "cell_type": "code",
      "source": [
        "num = int(input(\"Enter the number :\"))\n",
        "\n",
        "# to check number is positive\n",
        "\n",
        "if num > 0:\n",
        "  print(\"Number is positive\")\n",
        "\n",
        "# to check number is negative\n",
        "\n",
        "elif num < 0:\n",
        "  print(\"Number is negative\")\n",
        "\n",
        "# to check number is zero\n",
        "\n",
        "else:\n",
        "  print(\"Number is zero\")"
      ],
      "metadata": {
        "id": "TyXQXNkcx5jp"
      },
      "execution_count": null,
      "outputs": []
    },
    {
      "cell_type": "markdown",
      "source": [
        "Ques12)  Write a for loop to print numbers from 1 to 10?"
      ],
      "metadata": {
        "id": "VEcFgkZZyagY"
      }
    },
    {
      "cell_type": "code",
      "source": [
        "for i in range(0,11):\n",
        "  print(i)"
      ],
      "metadata": {
        "id": "sORUiDx8yhNk"
      },
      "execution_count": null,
      "outputs": []
    },
    {
      "cell_type": "markdown",
      "source": [
        "Ques13)  Write a Python program to find the sum of all even numbers between 1 and 50?"
      ],
      "metadata": {
        "id": "W5qHAANSyrOr"
      }
    },
    {
      "cell_type": "code",
      "source": [
        "sum_of_even_numbers = 0\n",
        "\n",
        "for i in range(1,51):\n",
        "  if i % 2 == 0:\n",
        "    sum_of_even_numbers += i\n",
        "\n",
        "print(\"Sum of even numbers between 1 and 50:\", sum_of_even_numbers)\n"
      ],
      "metadata": {
        "id": "LYJ-MXDxyw6R"
      },
      "execution_count": null,
      "outputs": []
    },
    {
      "cell_type": "markdown",
      "source": [
        "Ques14) Write a program to reverse a string using a while loop?"
      ],
      "metadata": {
        "id": "wFBh33JEzTtR"
      }
    },
    {
      "cell_type": "code",
      "source": [
        "string = \"Eshika Singh\"\n",
        "reversed_string = \"\"\n",
        "index = len(string) - 1\n",
        "while index >= 0:\n",
        "    reversed_string += string[index]\n",
        "    index -= 1\n",
        "print(\"Reversed string:\", reversed_string)"
      ],
      "metadata": {
        "id": "3qbtGPgCzyG_"
      },
      "execution_count": null,
      "outputs": []
    },
    {
      "cell_type": "markdown",
      "source": [
        "Ques15)  Write a Python program to calculate the factorial of a number provided by the user using a while loop?"
      ],
      "metadata": {
        "id": "esMFcqVA0I_b"
      }
    },
    {
      "cell_type": "code",
      "source": [
        "number = int(input(\"Enter a number: \"))\n",
        "factorial = 1\n",
        "current = 1\n",
        "\n",
        "while current <= number:\n",
        "    factorial *= current\n",
        "    current += 1\n",
        "\n",
        "print(f\" The factorial of the number is :\",factorial)"
      ],
      "metadata": {
        "id": "ZOIWZTVA0LL-"
      },
      "execution_count": null,
      "outputs": []
    }
  ]
}